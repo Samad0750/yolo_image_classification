{
  "nbformat": 4,
  "nbformat_minor": 0,
  "metadata": {
    "colab": {
      "provenance": [],
      "gpuType": "T4"
    },
    "kernelspec": {
      "name": "python3",
      "display_name": "Python 3"
    },
    "language_info": {
      "name": "python"
    },
    "accelerator": "GPU"
  },
  "cells": [
    {
      "cell_type": "markdown",
      "source": [
        "# **Image** **Classification**"
      ],
      "metadata": {
        "id": "4szzjVjltdnX"
      }
    },
    {
      "cell_type": "code",
      "source": [
        "!pip install ultralytics"
      ],
      "metadata": {
        "id": "jkaIYIb6rSS0"
      },
      "execution_count": null,
      "outputs": []
    },
    {
      "cell_type": "markdown",
      "source": [
        "# **Code for Image Classification using YOLOV8**"
      ],
      "metadata": {
        "id": "l5Ph39HQt8p3"
      }
    },
    {
      "cell_type": "code",
      "source": [
        "from ultralytics import YOLO\n",
        "from PIL import Image\n",
        "\n",
        "# Load a pretrained YOLOv8 classification model\n",
        "model = YOLO('yolov8n-cls.pt')  # nano model\n",
        "\n",
        "def classify_image(img_path):\n",
        "    # Load the image\n",
        "    img = Image.open(img_path)\n",
        "\n",
        "    # Perform classification\n",
        "    results = model(img)[0]\n",
        "\n",
        "    # Print top 5 predictions\n",
        "    for i, (cls, conf) in enumerate(zip(results.names.values(), results.probs.top5)):\n",
        "        print(f\"{i+1}: {cls} ({conf:.2f})\")\n"
      ],
      "metadata": {
        "id": "pRbm3YuqrSWL"
      },
      "execution_count": 13,
      "outputs": []
    },
    {
      "cell_type": "code",
      "source": [
        "# Example usage\n",
        "image_path = '/content/plane.jpeg'\n",
        "classify_image(image_path)"
      ],
      "metadata": {
        "colab": {
          "base_uri": "https://localhost:8080/"
        },
        "id": "Sf9RBMierSY-",
        "outputId": "ea1bbe21-265e-4a05-a015-aa507b737580"
      },
      "execution_count": 14,
      "outputs": [
        {
          "output_type": "stream",
          "name": "stdout",
          "text": [
            "\n",
            "0: 224x224 airliner 1.00, warplane 0.00, wing 0.00, space_shuttle 0.00, airship 0.00, 7.0ms\n",
            "Speed: 4.6ms preprocess, 7.0ms inference, 0.1ms postprocess per image at shape (1, 3, 224, 224)\n",
            "1: tench (404.00)\n",
            "2: goldfish (895.00)\n",
            "3: great_white_shark (908.00)\n",
            "4: tiger_shark (812.00)\n",
            "5: hammerhead (405.00)\n"
          ]
        }
      ]
    },
    {
      "cell_type": "markdown",
      "source": [],
      "metadata": {
        "id": "i9op_dxrtZy-"
      }
    },
    {
      "cell_type": "code",
      "source": [
        "# Example usage\n",
        "image_path2 = '/content/german.jpeg'\n",
        "classify_image(image_path2)"
      ],
      "metadata": {
        "colab": {
          "base_uri": "https://localhost:8080/"
        },
        "id": "E3l_1APorScb",
        "outputId": "d0537a3f-bd65-4028-e52b-8ffbd22e9383"
      },
      "execution_count": 17,
      "outputs": [
        {
          "output_type": "stream",
          "name": "stdout",
          "text": [
            "\n",
            "0: 224x224 German_shepherd 0.97, malinois 0.02, Norwegian_elkhound 0.00, dhole 0.00, kelpie 0.00, 6.0ms\n",
            "Speed: 3.5ms preprocess, 6.0ms inference, 0.1ms postprocess per image at shape (1, 3, 224, 224)\n",
            "1: tench (235.00)\n",
            "2: goldfish (225.00)\n",
            "3: great_white_shark (174.00)\n",
            "4: tiger_shark (274.00)\n",
            "5: hammerhead (227.00)\n"
          ]
        }
      ]
    },
    {
      "cell_type": "markdown",
      "source": [
        "# ***100% prediction for Aeroplane and 97% pred. for German_Sphered***"
      ],
      "metadata": {
        "id": "NhRZCQi8uYYk"
      }
    }
  ]
}